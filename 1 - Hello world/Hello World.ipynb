{
 "cells": [
  {
   "cell_type": "markdown",
   "metadata": {},
   "source": [
    "# Hello World"
   ]
  },
  {
   "cell_type": "markdown",
   "metadata": {},
   "source": [
    "### 6 lines of code is all it takes to write your first Machine Learning program. This paper will walk you through writing Hello World for Machine Learning."
   ]
  },
  {
   "cell_type": "markdown",
   "metadata": {},
   "source": [
    "Machine Learning is a subfield of Artificial Intelligence(AI). Early AI programs typically excelleed at just one thing. For instance, [Deep Blue](http://www-03.ibm.com/ibm/history/ibm100/us/en/icons/deepblue/) could play chess at a championship level, but that's all it could do. However, we want to write a program that can solve many problems without needing to be rewritten, like [AlphaGo](https://en.wikipedia.org/wiki/AlphaGo).\n",
    "\n",
    "Machine Learning is that behind those AI. In another word, It's the study of algorithms that learn from example and experience, instead of relying on hard-coded rules. One simple example is a software that can figure out the difference between an apple and an orange."
   ]
  },
  {
   "cell_type": "markdown",
   "metadata": {},
   "source": [
    "This hello world application will classify a piece of fruit by user input. First, it will take a description of the fruit as input, and predict whether it is an apple or an orange as output based on its weight and texture."
   ]
  },
  {
   "cell_type": "markdown",
   "metadata": {},
   "source": [
    "To star, I am going to import the Decition Tree from the sklearn library."
   ]
  },
  {
   "cell_type": "code",
   "execution_count": 1,
   "metadata": {},
   "outputs": [],
   "source": [
    "from sklearn import tree"
   ]
  },
  {
   "cell_type": "markdown",
   "metadata": {},
   "source": [
    "Let's write down our training data in code. We'll use two variable, features and labels. The features variable is an array of arrays that contain the fruit's weight and its texture. However, instead of using string texture, I will use 0 for \"bumpy\" and 1 for \"smmoth\". \n",
    "\n",
    "\n",
    "**The more training data you have, the bettera classifier you can create.**"
   ]
  },
  {
   "cell_type": "code",
   "execution_count": 2,
   "metadata": {
    "collapsed": true
   },
   "outputs": [],
   "source": [
    "features = [[140, 0], [130, 0], [150, 1], [170, 1]]\n",
    "labels = [\"apple\", \"apple\", \"orange\", \"orange\"]"
   ]
  },
  {
   "cell_type": "markdown",
   "metadata": {},
   "source": [
    "Now, use these two variable to train a classifier. The type of classifier we'll use for this application is called Decition Tree. There are many type of classifier, but the input and output are always the same.\n",
    "\n",
    "We'll create the classifier using the DecisionTreeClassifier function. The function will return an empty box of rules. To train the classifier, we'll need a learning algorithm."
   ]
  },
  {
   "cell_type": "code",
   "execution_count": 3,
   "metadata": {},
   "outputs": [],
   "source": [
    "clf = tree.DecisionTreeClassifier()"
   ]
  },
  {
   "cell_type": "markdown",
   "metadata": {},
   "source": [
    "If a classifier is a box of rules, then the learning algorithm is the procedure that creates them. The algoritms will find the patterns from your training data.\n",
    "\n",
    "In sklearn, the learning algorithm is included in the classifier object, and it's called fit(). fit() is a synonym for \"Find Patterns in Data.\""
   ]
  },
  {
   "cell_type": "code",
   "execution_count": 4,
   "metadata": {},
   "outputs": [],
   "source": [
    "clf = clf.fit(features, labels)"
   ]
  },
  {
   "cell_type": "markdown",
   "metadata": {},
   "source": [
    "At this point, we have a trained classifier. Let's take it for a spin and use it to classify a new fruit.\n",
    "\n",
    "The input to the classifier is the features for a new example. Let's say the fruiy we want to classify is 150 grams and bumpy(0). The output will be either an apple or an orange."
   ]
  },
  {
   "cell_type": "code",
   "execution_count": 5,
   "metadata": {},
   "outputs": [
    {
     "name": "stdout",
     "output_type": "stream",
     "text": [
      "['orange']\n"
     ]
    }
   ],
   "source": [
    "print(clf.predict([[150, 0]]))"
   ]
  },
  {
   "cell_type": "markdown",
   "metadata": {},
   "source": [
    "If everything work for you then congraduration! You made your first Machine Learning program!\n",
    "\n",
    "You can create a new classifier for a new problem just by changing the training data."
   ]
  },
  {
   "cell_type": "markdown",
   "metadata": {},
   "source": [
    "**The neat thing is that programming with Machine Learning isn't hard. However, to get it right, you need to understand a few important concepts.**"
   ]
  },
  {
   "cell_type": "markdown",
   "metadata": {},
   "source": [
    "### Resources:\n",
    "\n",
    "* [Hello World - Machine Learning Recipes #1](https://www.youtube.com/watch?v=cKxRvEZd3Mw&list=PLOU2XLYxmsIIuiBfYad6rFYQU_jL2ryal&index=1)"
   ]
  }
 ],
 "metadata": {
  "kernelspec": {
   "display_name": "Python [conda env:py3]",
   "language": "python",
   "name": "conda-env-py3-py"
  },
  "language_info": {
   "codemirror_mode": {
    "name": "ipython",
    "version": 3
   },
   "file_extension": ".py",
   "mimetype": "text/x-python",
   "name": "python",
   "nbconvert_exporter": "python",
   "pygments_lexer": "ipython3",
   "version": "3.6.2"
  }
 },
 "nbformat": 4,
 "nbformat_minor": 2
}
